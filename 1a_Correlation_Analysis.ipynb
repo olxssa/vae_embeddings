{
 "cells": [
  {
   "cell_type": "markdown",
   "source": [
    "# Correlation Analysis"
   ],
   "metadata": {
    "collapsed": false
   },
   "id": "6fb924913cd4fecb"
  },
  {
   "cell_type": "code",
   "execution_count": 103,
   "outputs": [],
   "source": [
    "import scanpy as sc\n",
    "import pandas as pd\n",
    "import matplotlib.pyplot as plt\n",
    "import seaborn as sns\n",
    "from scipy.stats import kruskal"
   ],
   "metadata": {
    "collapsed": false,
    "ExecuteTime": {
     "end_time": "2025-03-28T10:02:45.021075Z",
     "start_time": "2025-03-28T10:02:45.007418Z"
    }
   },
   "id": "7465dd899110f9f2"
  },
  {
   "cell_type": "code",
   "execution_count": 97,
   "outputs": [
    {
     "name": "stdout",
     "output_type": "stream",
     "text": [
      "True\n"
     ]
    }
   ],
   "source": [
    "## Import the Data\n",
    "adata = sc.read_h5ad(\"/Users/olyssa/PycharmProjects/VAE_embeddings/PBMC_adata.h5ad\")\n",
    "\n",
    "embedding = adata.obsm['embedding']\n",
    "\n",
    "#Checking if cells are sorted the same in embedding table and X table for correlation analysis\n",
    "print((adata.obs_names == adata.obs.index).all())  # Has to be \"TRUE\""
   ],
   "metadata": {
    "collapsed": false,
    "ExecuteTime": {
     "end_time": "2025-03-28T10:01:54.996175Z",
     "start_time": "2025-03-28T10:01:44.666393Z"
    }
   },
   "id": "146696c8c52cecee"
  },
  {
   "cell_type": "markdown",
   "source": [
    "## Correlations between embedding features and gene expression levels"
   ],
   "metadata": {
    "collapsed": false
   },
   "id": "37fd55e317da296b"
  },
  {
   "cell_type": "code",
   "execution_count": 98,
   "outputs": [
    {
     "data": {
      "text/plain": "(268620, 4)"
     },
     "execution_count": 98,
     "metadata": {},
     "output_type": "execute_result"
    }
   ],
   "source": [
    "# Import data from correlation computations\n",
    "spearman_corr = pd.read_csv(\"corals_spearman_pvalues_results.csv\")\n",
    "spearman_corr.shape"
   ],
   "metadata": {
    "collapsed": false,
    "ExecuteTime": {
     "end_time": "2025-03-28T10:02:07.072973Z",
     "start_time": "2025-03-28T10:02:06.950749Z"
    }
   },
   "id": "46d419df92f8095b"
  },
  {
   "cell_type": "code",
   "execution_count": 99,
   "outputs": [
    {
     "data": {
      "text/plain": "(1484, 4)"
     },
     "execution_count": 99,
     "metadata": {},
     "output_type": "execute_result"
    }
   ],
   "source": [
    "# Filter for p-value <= 0.001 AND abs(spearman_correlation) >= 0.3\n",
    "import numpy as np\n",
    "spearman_corr_filtered = spearman_corr[(spearman_corr[\"P_Value\"]<=0.001) & (np.abs(spearman_corr[\"Spearman_Correlation\"])>=0.3)]\n",
    "spearman_corr_filtered.shape"
   ],
   "metadata": {
    "collapsed": false,
    "ExecuteTime": {
     "end_time": "2025-03-28T10:02:12.051733Z",
     "start_time": "2025-03-28T10:02:12.038155Z"
    }
   },
   "id": "7fe04f0388c8eeff"
  },
  {
   "cell_type": "code",
   "execution_count": 100,
   "outputs": [
    {
     "data": {
      "text/plain": "<Figure size 600x350 with 1 Axes>",
      "image/png": "[encoded data removed]"
     },
     "metadata": {},
     "output_type": "display_data"
    }
   ],
   "source": [
    "# Histogram to plot number of significant genes per embedding dimension\n",
    "gene_counts = spearman_corr_filtered.groupby(\"Embedding_Feature\")[\"Gene\"].count().reset_index()\n",
    "gene_counts.columns = [\"embedding_feature\", \"gene_count\"]\n",
    "colors = [\"indianred\" if count >= 15 else \"cornflowerblue\" for count in gene_counts[\"gene_count\"]]\n",
    "\n",
    "fig, axes = plt.subplots(figsize=(6, 3.5))\n",
    "bars = plt.bar(gene_counts[\"embedding_feature\"]+1, gene_counts[\"gene_count\"], color=colors)\n",
    "for bar in bars:\n",
    "    height = bar.get_height()  # Get bar height\n",
    "    plt.text(bar.get_x() + bar.get_width()/2, height,  \n",
    "             f\"{int(height)}\", ha='center', va='bottom', fontsize=10, c=\"grey\")\n",
    "plt.xticks(range(1, 21))  \n",
    "plt.xlabel(\"Embedding dimensions\")\n",
    "plt.ylabel(\"Number of significant genes\")\n",
    "plt.tight_layout()\n",
    "fig.savefig('significant_genes_per_dimension.png', dpi=200)\n",
    "plt.show()"
   ],
   "metadata": {
    "collapsed": false,
    "ExecuteTime": {
     "end_time": "2025-03-28T10:02:14.863202Z",
     "start_time": "2025-03-28T10:02:14.689667Z"
    }
   },
   "id": "86bf264920ea2ec1"
  },
  {
   "cell_type": "markdown",
   "source": [
    "## Correlations between embedding features and sample batches"
   ],
   "metadata": {
    "collapsed": false
   },
   "id": "46bce0396cc55642"
  },
  {
   "cell_type": "markdown",
   "source": [
    "### Kruskal-Wallis"
   ],
   "metadata": {
    "collapsed": false
   },
   "id": "94a01c9a3cccc69f"
  },
  {
   "cell_type": "code",
   "execution_count": 3,
   "outputs": [],
   "source": [
    "# Define batch categories\n",
    "groups = [\"site\", \"donor\"]"
   ],
   "metadata": {
    "collapsed": false,
    "ExecuteTime": {
     "end_time": "2025-03-24T15:22:09.241030Z",
     "start_time": "2025-03-24T15:22:09.235813Z"
    }
   },
   "id": "2ac7abac3e992934"
  },
  {
   "cell_type": "code",
   "execution_count": 101,
   "outputs": [],
   "source": [
    "# Define embedding space\n",
    "embedding = adata.obsm[\"embedding\"]\n",
    "embedding = pd.DataFrame(embedding)\n",
    "\n",
    "num_embedding_dims = embedding.shape[1]\n",
    "\n",
    "# Store as dataframe\n",
    "for group in groups:\n",
    "    embedding[f\"{group}\"] = adata.obs[group].values"
   ],
   "metadata": {
    "collapsed": false,
    "ExecuteTime": {
     "end_time": "2025-03-28T10:02:28.357129Z",
     "start_time": "2025-03-28T10:02:28.354193Z"
    }
   },
   "id": "4b637d5adfe78737"
  },
  {
   "cell_type": "code",
   "execution_count": null,
   "outputs": [],
   "source": [
    "# Define Kruskal-Wallis\n",
    "def kruskal_wallis(group):\n",
    "    # Get unique batch categories\n",
    "    batch_categories = embedding[f\"{group}\"].unique()\n",
    "    \n",
    "    # Compute Kruskal-Wallis p-values (dimensions × batches)\n",
    "    kruskal_pvalues = np.zeros((num_embedding_dims, len(batch_categories)))\n",
    "    \n",
    "    for dim_idx, dim in enumerate(embedding.columns[:-3]):  # Exclude batch column\n",
    "        for batch_idx, batch in enumerate(batch_categories):\n",
    "            # Split data into current batch vs. all other batches\n",
    "            group1 = embedding[embedding[f\"{group}\"] == batch][dim]\n",
    "            group2 = embedding[embedding[f\"{group}\"] != batch][dim]\n",
    "            \n",
    "            # Compute Kruskal-Wallis test\n",
    "            stat, p_value = kruskal(group1, group2)\n",
    "            kruskal_pvalues[dim_idx, batch_idx] = p_value  # Store p-value\n",
    "    \n",
    "    # Convert to DataFrame\n",
    "    kruskal_df = pd.DataFrame(kruskal_pvalues, \n",
    "                              index=[f\"{i+1}\" for i in range(num_embedding_dims)], \n",
    "                              columns=batch_categories)\n",
    "    \n",
    "    return kruskal_df"
   ],
   "metadata": {
    "collapsed": false
   },
   "id": "5a52187cfa664599"
  },
  {
   "cell_type": "code",
   "execution_count": 102,
   "outputs": [],
   "source": [
    "# Iterate over batch categories\n",
    "kruskel_df_list = []\n",
    "for i in range(len(groups)):\n",
    "    kruskel_df_list.append(kruskal_wallis(groups[i]))"
   ],
   "metadata": {
    "collapsed": false,
    "ExecuteTime": {
     "end_time": "2025-03-28T10:02:33.721862Z",
     "start_time": "2025-03-28T10:02:30.910684Z"
    }
   },
   "id": "ca292f744b3153bf"
  },
  {
   "cell_type": "code",
   "execution_count": 105,
   "outputs": [
    {
     "data": {
      "text/plain": "<Figure size 650x200 with 3 Axes>",
      "image/png": "[encoded data removed]"
     },
     "metadata": {},
     "output_type": "display_data"
    }
   ],
   "source": [
    "# Visualize correlations\n",
    "\n",
    "site_colors = [\"blue\", \"orange\", \"green\", \"red\"]\n",
    "donor_colors = [\"blue\", \"blue\", \"blue\", \"orange\", \"orange\", \"green\", \"green\", \"green\", \"red\", \"red\"]\n",
    "\n",
    "fig, axes = plt.subplots(1, 2, figsize=(6.5,2), gridspec_kw={\"width_ratios\": [1, 1.2]})\n",
    "\n",
    "# site\n",
    "sns.heatmap(kruskel_df_list[0].T, ax=axes[0], cmap=\"rocket\", linewidths=0.5, square=True, cbar=False)\n",
    "axes[0].set_ylabel(\"Batch\")\n",
    "i = 0\n",
    "for tick in axes[0].get_yticklabels():\n",
    "    tick.set_color(site_colors[i])\n",
    "    i += 1\n",
    "\n",
    "# donor\n",
    "sns.heatmap(kruskel_df_list[1].T, ax=axes[1], cmap=\"rocket\", linewidths=0.5, square=True, cbar=True, vmin=0, vmax=1, cbar_kws={\"shrink\": 0.8, \"label\": \"p-value\"})\n",
    "axes[1].set_title(f\"'{groups[1]}'\")\n",
    "axes[1].set_xlabel(\"Embedding dimensions\")\n",
    "i = 0\n",
    "for tick in axes[1].get_yticklabels():\n",
    "    tick.set_color(donor_colors[i])\n",
    "    i += 1\n",
    "\n",
    "for i in range(len(groups)-1):\n",
    "    axes[i].set_title(f\"'{groups[i]}'\")\n",
    "    axes[i].set_xlabel(\"Embedding dimensions\")\n",
    "    axes[i].set_yticklabels(axes[i].get_yticklabels(), rotation=0)\n",
    "\n",
    "plt.xticks(rotation=0)\n",
    "plt.yticks(rotation=0)\n",
    "plt.tight_layout()\n",
    "fig.savefig('correlation_embedding_batches.png', dpi=200)\n",
    "plt.show()"
   ],
   "metadata": {
    "collapsed": false,
    "ExecuteTime": {
     "end_time": "2025-03-28T10:03:46.936298Z",
     "start_time": "2025-03-28T10:03:46.686183Z"
    }
   },
   "id": "37cf4e600dfd4740"
  },
  {
   "cell_type": "markdown",
   "source": [
    "### Random forest\n",
    "another neat things you could do would be to train a random forest classifier on embedding values to predict any of the cell metadata (site, donor, etc). Random forest then can return you very clean feature importances -> say, which input dimention was the most informative. I would recommend you to run it. It is easy and fast to use with sklearn and it can uncover some interesting relationships. for implementation check this"
   ],
   "metadata": {
    "collapsed": false
   },
   "id": "5976f1a0d108518f"
  },
  {
   "cell_type": "code",
   "execution_count": 106,
   "outputs": [],
   "source": [
    "from sklearn.model_selection import train_test_split\n",
    "random_seed = 91\n",
    "\n",
    "# Define data \n",
    "def define_data(group):\n",
    "    embedding = adata.obsm[\"embedding\"]\n",
    "    embedding = pd.DataFrame(embedding)\n",
    "    \n",
    "    # Remove predictor variables with a low variation across samples\n",
    "    column_sds = np.std(embedding, axis=1)\n",
    "    filtered_cells = column_sds > 0.08\n",
    "    embedding_filtered = embedding[filtered_cells==True]\n",
    "    \n",
    "    embedding_filtered[f\"{group}\"] = adata.obs[group].values[filtered_cells==True]\n",
    "    embedding_sample = embedding_filtered.sample(frac=1)\n",
    "    \n",
    "    # Splitting data into 90 % training and 10 % testing\n",
    "    training, testing = train_test_split(embedding_sample, \n",
    "                                         test_size=0.1, \n",
    "                                         random_state=random_seed\n",
    "                                         )\n",
    "    \n",
    "    # Define the feature set (X) and target variable (y) of training set\n",
    "    X_train = training.iloc[:, :-1]  # Features\n",
    "    y_train = training[group]  # Target variable (continuous)\n",
    "    \n",
    "    # Define the feature set (X) and target variable (y) of testing set\n",
    "    X_test = testing.iloc[:, :-1]  # Features\n",
    "    y_test = testing[group]  # Target variable (continuous)\n",
    "    \n",
    "    # Encode categorical target variable\n",
    "    le = LabelEncoder()\n",
    "    y_train_encoded = le.fit_transform(y_train)  # Convert categorical target to numeric labels\n",
    "    y_test_encoded = le.transform(y_test)\n",
    "    \n",
    "    return X_train, X_test, y_train_encoded, y_test_encoded, le"
   ],
   "metadata": {
    "collapsed": false,
    "ExecuteTime": {
     "end_time": "2025-03-28T10:07:08.026778Z",
     "start_time": "2025-03-28T10:07:08.020503Z"
    }
   },
   "id": "20bd8b4f75eaa432"
  },
  {
   "cell_type": "code",
   "execution_count": 107,
   "outputs": [],
   "source": [
    "from sklearn.model_selection import cross_val_score, KFold\n",
    "from sklearn.ensemble import RandomForestClassifier\n",
    "from sklearn.preprocessing import LabelEncoder\n",
    "from sklearn.metrics import accuracy_score\n",
    "\n",
    "# Initialize the model\n",
    "rf_model = RandomForestClassifier(n_estimators=100, random_state=random_seed)\n",
    "\n",
    "# Define model performance assessment\n",
    "def rf_training_validation(group):\n",
    "    \n",
    "    X_train, X_test, y_train_encoded, y_test_encoded, le = define_data(group)\n",
    "    \n",
    "    ### Define cross-validation strategy\n",
    "    cv = KFold(n_splits=5, shuffle=True, random_state=random_seed)\n",
    "    \n",
    "    # Cross-validation results\n",
    "    print('\\033[1m' + \"Cross-validation results:\")\n",
    "    accuracy_scores = cross_val_score(rf_model, X_train, y_train_encoded, cv=cv, scoring='accuracy')\n",
    "    print('\\033[0m' + f\"Accuracy scores across folds: {accuracy_scores}\")\n",
    "    print(f\"Mean Accuracy: {accuracy_scores.mean():.3f}\")\n",
    "    print(f\"Standard Deviation of Accuracy: {accuracy_scores.std():.3f}\")\n",
    "    \n",
    "    # Train the model on the entire training set\n",
    "    rf_model.fit(X_train, y_train_encoded)\n",
    "    \n",
    "    ### Testing the model on the testing set\n",
    "    \n",
    "    # Predict on the test data\n",
    "    y_pred_encoded = rf_model.predict(X_test)\n",
    "    \n",
    "    # Convert predictions back to original categories\n",
    "    #y_pred = le.inverse_transform(y_pred_encoded)\n",
    "    \n",
    "    # Calculate Accuracy on the test set\n",
    "    accuracy_test_rf = accuracy_score(y_test_encoded, y_pred_encoded)\n",
    "    print('\\n \\033[1m' + \"Model performance tested on the testing set:\")\n",
    "    print('\\033[0m' + f\"Accuracy: {accuracy_test_rf:.3f}\")\n",
    "    \n",
    "    return rf_model, y_pred_encoded, X_test, y_test_encoded, le"
   ],
   "metadata": {
    "collapsed": false,
    "ExecuteTime": {
     "end_time": "2025-03-28T10:07:10.331526Z",
     "start_time": "2025-03-28T10:07:10.329216Z"
    }
   },
   "id": "e7d907ba102abcba"
  },
  {
   "cell_type": "code",
   "execution_count": 108,
   "outputs": [],
   "source": [
    "from sklearn.metrics import confusion_matrix\n",
    "\n",
    "# Define plotting confusion matrix\n",
    "def plot_confusion_matrix(group):\n",
    "    \n",
    "    rf_model, y_pred_encoded, X_test, y_test_encoded, le = rf_training_validation(group)\n",
    "\n",
    "    # Compute confusion matrix\n",
    "    cm = confusion_matrix(y_test_encoded, y_pred_encoded)\n",
    "    \n",
    "    # Plot confusion matrix\n",
    "    fig, ax = plt.subplots(figsize=(5, 3))\n",
    "    sns.heatmap(cm, annot=True, fmt=\"d\", cmap=\"Blues\", xticklabels=le.classes_, yticklabels=le.classes_)\n",
    "    plt.xlabel(\"Predicted Label\")\n",
    "    plt.ylabel(\"True Label\")\n",
    "    plt.title(\"Random Forest: Confusion Matrix\")\n",
    "    plt.show()"
   ],
   "metadata": {
    "collapsed": false,
    "ExecuteTime": {
     "end_time": "2025-03-28T10:07:14.052516Z",
     "start_time": "2025-03-28T10:07:14.047477Z"
    }
   },
   "id": "f56bc305c79f8eb0"
  },
  {
   "cell_type": "code",
   "execution_count": 109,
   "outputs": [],
   "source": [
    "from sklearn.inspection import permutation_importance\n",
    "\n",
    "# Define permutation importance measure\n",
    "def perm_importance_rf(group):\n",
    "    \n",
    "    rf_model, y_pred_encoded, X_test, y_test_encoded, le = rf_training_validation(group)\n",
    "    \n",
    "    perm_importance_rf = permutation_importance(\n",
    "        rf_model, X_test, y_test_encoded,  \n",
    "        scoring='accuracy',  \n",
    "        n_repeats=100,\n",
    "        random_state=random_seed\n",
    "    )\n",
    "    \n",
    "    # Create a DataFrame for feature importance\n",
    "    perm_df_rf = pd.DataFrame({\n",
    "        'Feature': X_test.columns,  # Use actual feature names\n",
    "        'Importance': perm_importance_rf.importances_mean\n",
    "    })\n",
    "    \n",
    "    # Sort by importance\n",
    "    perm_df_rf = perm_df_rf.sort_values(by='Importance', ascending=False)\n",
    "    \n",
    "    return perm_df_rf"
   ],
   "metadata": {
    "collapsed": false,
    "ExecuteTime": {
     "end_time": "2025-03-28T10:07:27.697304Z",
     "start_time": "2025-03-28T10:07:27.676320Z"
    }
   },
   "id": "a93f44b3c5f5808c"
  },
  {
   "cell_type": "code",
   "execution_count": 110,
   "outputs": [
    {
     "name": "stderr",
     "output_type": "stream",
     "text": [
      "/var/folders/2v/_c7y979j6tjczs_z_jz_fjyw0000gn/T/ipykernel_93864/3548933616.py:14: SettingWithCopyWarning: \n",
      "A value is trying to be set on a copy of a slice from a DataFrame.\n",
      "Try using .loc[row_indexer,col_indexer] = value instead\n",
      "\n",
      "See the caveats in the documentation: https://pandas.pydata.org/pandas-docs/stable/user_guide/indexing.html#returning-a-view-versus-a-copy\n",
      "  embedding_filtered[f\"{group}\"] = adata.obs[group].values[filtered_cells==True]\n"
     ]
    },
    {
     "name": "stdout",
     "output_type": "stream",
     "text": [
      "\u001B[1mCross-validation results:\n",
      "\u001B[0mAccuracy scores across folds: [0.63001486 0.65230312 0.60326895 0.62797619 0.60416667]\n",
      "Mean Accuracy: 0.624\n",
      "Standard Deviation of Accuracy: 0.018\n",
      "\n",
      " \u001B[1mModel performance tested on the testing set:\n",
      "\u001B[0mAccuracy: 0.634\n",
      "\u001B[1mCross-validation results:\n"
     ]
    },
    {
     "name": "stderr",
     "output_type": "stream",
     "text": [
      "/var/folders/2v/_c7y979j6tjczs_z_jz_fjyw0000gn/T/ipykernel_93864/3548933616.py:14: SettingWithCopyWarning: \n",
      "A value is trying to be set on a copy of a slice from a DataFrame.\n",
      "Try using .loc[row_indexer,col_indexer] = value instead\n",
      "\n",
      "See the caveats in the documentation: https://pandas.pydata.org/pandas-docs/stable/user_guide/indexing.html#returning-a-view-versus-a-copy\n",
      "  embedding_filtered[f\"{group}\"] = adata.obs[group].values[filtered_cells==True]\n"
     ]
    },
    {
     "name": "stdout",
     "output_type": "stream",
     "text": [
      "\u001B[0mAccuracy scores across folds: [0.49628529 0.47845468 0.4858841  0.48809524 0.49553571]\n",
      "Mean Accuracy: 0.489\n",
      "Standard Deviation of Accuracy: 0.007\n",
      "\n",
      " \u001B[1mModel performance tested on the testing set:\n",
      "\u001B[0mAccuracy: 0.492\n"
     ]
    },
    {
     "data": {
      "text/plain": "<Figure size 650x350 with 4 Axes>",
      "image/png": "[encoded data removed]"
     },
     "metadata": {},
     "output_type": "display_data"
    }
   ],
   "source": [
    "# Plot confusion matrices\n",
    "fig, axes = plt.subplots(1, 2, figsize=(6.5, 3.5))\n",
    "\n",
    "for i in range(len(groups)):\n",
    "    rf_model, y_pred_encoded, X_test, y_test_encoded, le = rf_training_validation(groups[i])\n",
    "    cm = confusion_matrix(y_test_encoded, y_pred_encoded)\n",
    "    sns.heatmap(cm, ax=axes[i], annot=True, fmt=\"d\", xticklabels=le.classes_, yticklabels=le.classes_, vmin=0, vmax=100, cmap='rocket_r')\n",
    "    \n",
    "    axes[i].set_title(f\"'{groups[i]}'\")\n",
    "    axes[i].set_xlabel(\"Predicted label\")\n",
    "\n",
    "site_colors = [\"blue\", \"orange\", \"green\", \"red\"]\n",
    "donor_colors = [\"blue\", \"green\", \"blue\", \"blue\", \"orange\", \"orange\", \"green\", \"green\", \"red\", \"red\"]\n",
    "i = 0\n",
    "for tick in axes[0].get_yticklabels():\n",
    "    tick.set_color(site_colors[i])\n",
    "    i += 1\n",
    "i = 0\n",
    "for tick in axes[1].get_yticklabels():\n",
    "    tick.set_color(donor_colors[i])\n",
    "    i += 1\n",
    "i = 0\n",
    "for tick in axes[0].get_xticklabels():\n",
    "    tick.set_color(site_colors[i])\n",
    "    i += 1\n",
    "i = 0\n",
    "for tick in axes[1].get_xticklabels():\n",
    "    tick.set_color(donor_colors[i])\n",
    "    i += 1\n",
    "    \n",
    "axes[0].set_ylabel(\"True label\")\n",
    "plt.tight_layout()\n",
    "fig.savefig('confusion_matrix.png', dpi=200)\n",
    "plt.show()"
   ],
   "metadata": {
    "collapsed": false,
    "ExecuteTime": {
     "end_time": "2025-03-28T10:07:47.754680Z",
     "start_time": "2025-03-28T10:07:37.208278Z"
    }
   },
   "id": "820bf55a2e6fa84d"
  },
  {
   "cell_type": "code",
   "execution_count": 111,
   "outputs": [
    {
     "name": "stderr",
     "output_type": "stream",
     "text": [
      "/var/folders/2v/_c7y979j6tjczs_z_jz_fjyw0000gn/T/ipykernel_93864/3548933616.py:14: SettingWithCopyWarning: \n",
      "A value is trying to be set on a copy of a slice from a DataFrame.\n",
      "Try using .loc[row_indexer,col_indexer] = value instead\n",
      "\n",
      "See the caveats in the documentation: https://pandas.pydata.org/pandas-docs/stable/user_guide/indexing.html#returning-a-view-versus-a-copy\n",
      "  embedding_filtered[f\"{group}\"] = adata.obs[group].values[filtered_cells==True]\n"
     ]
    },
    {
     "name": "stdout",
     "output_type": "stream",
     "text": [
      "\u001B[1mCross-validation results:\n",
      "\u001B[0mAccuracy scores across folds: [0.59732541 0.62852897 0.63893016 0.64136905 0.60119048]\n",
      "Mean Accuracy: 0.621\n",
      "Standard Deviation of Accuracy: 0.019\n",
      "\n",
      " \u001B[1mModel performance tested on the testing set:\n",
      "\u001B[0mAccuracy: 0.676\n"
     ]
    },
    {
     "name": "stderr",
     "output_type": "stream",
     "text": [
      "/var/folders/2v/_c7y979j6tjczs_z_jz_fjyw0000gn/T/ipykernel_93864/3548933616.py:14: SettingWithCopyWarning: \n",
      "A value is trying to be set on a copy of a slice from a DataFrame.\n",
      "Try using .loc[row_indexer,col_indexer] = value instead\n",
      "\n",
      "See the caveats in the documentation: https://pandas.pydata.org/pandas-docs/stable/user_guide/indexing.html#returning-a-view-versus-a-copy\n",
      "  embedding_filtered[f\"{group}\"] = adata.obs[group].values[filtered_cells==True]\n"
     ]
    },
    {
     "name": "stdout",
     "output_type": "stream",
     "text": [
      "\u001B[1mCross-validation results:\n",
      "\u001B[0mAccuracy scores across folds: [0.50371471 0.50074294 0.4769688  0.47916667 0.50595238]\n",
      "Mean Accuracy: 0.493\n",
      "Standard Deviation of Accuracy: 0.013\n",
      "\n",
      " \u001B[1mModel performance tested on the testing set:\n",
      "\u001B[0mAccuracy: 0.503\n"
     ]
    }
   ],
   "source": [
    "perm_df_rf_list = []\n",
    "for i in range(len(groups)):\n",
    "    perm_df_rf_list.append(perm_importance_rf(groups[i]))"
   ],
   "metadata": {
    "collapsed": false,
    "ExecuteTime": {
     "end_time": "2025-03-28T10:08:24.041573Z",
     "start_time": "2025-03-28T10:07:47.754876Z"
    }
   },
   "id": "ac43b86d6617bc35"
  },
  {
   "cell_type": "code",
   "execution_count": 112,
   "outputs": [
    {
     "data": {
      "text/plain": "<Figure size 650x350 with 2 Axes>",
      "image/png": "[encoded data removed]"
     },
     "metadata": {},
     "output_type": "display_data"
    }
   ],
   "source": [
    "fig, axes = plt.subplots(1, 2, figsize=(6.5, 3.5))\n",
    "\n",
    "#fig.suptitle(\"Variable importance of Random Forest model\", fontsize=16)\n",
    "\n",
    "for i in range(len(groups)):\n",
    "    perm_df_rf = perm_df_rf_list[i]\n",
    "    axes[i].bar(perm_df_rf['Feature']+1, perm_df_rf['Importance'])\n",
    "    axes[i].set_title(f\"'{groups[i]}'\")\n",
    "    axes[i].set_xlabel(\"Embedding dimensions\")\n",
    "    #axes[i].set_xticks(range(1, 21))\n",
    "    axes[i].set_ylim(-0.01, 0.14)\n",
    "\n",
    "axes[0].set_ylabel(\"Permutation importance\")\n",
    "plt.tight_layout()\n",
    "\n",
    "fig.savefig('variable_importance.png', dpi=200)\n",
    "plt.show()"
   ],
   "metadata": {
    "collapsed": false,
    "ExecuteTime": {
     "end_time": "2025-03-28T10:08:24.260853Z",
     "start_time": "2025-03-28T10:08:24.050128Z"
    }
   },
   "id": "ba055b5914488adf"
  }
 ],
 "metadata": {
  "kernelspec": {
   "display_name": "Python 3",
   "language": "python",
   "name": "python3"
  },
  "language_info": {
   "codemirror_mode": {
    "name": "ipython",
    "version": 2
   },
   "file_extension": ".py",
   "mimetype": "text/x-python",
   "name": "python",
   "nbconvert_exporter": "python",
   "pygments_lexer": "ipython2",
   "version": "2.7.6"
  }
 },
 "nbformat": 4,
 "nbformat_minor": 5
}
